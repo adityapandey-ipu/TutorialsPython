{
 "cells": [
  {
   "cell_type": "markdown",
   "metadata": {},
   "source": [
    " ## Python Data Types"
   ]
  },
  {
   "cell_type": "code",
   "execution_count": 1,
   "metadata": {},
   "outputs": [
    {
     "name": "stdout",
     "output_type": "stream",
     "text": [
      "<class 'int'>\n",
      "10\n",
      "<class 'float'>\n",
      "10.0\n"
     ]
    }
   ],
   "source": [
    "#Integer DataType\n",
    "My_int=10\n",
    "print(type(My_int))\n",
    "print(My_int)\n",
    "My_float=float(My_int)\n",
    "print(type(My_float))\n",
    "print(My_float)"
   ]
  },
  {
   "cell_type": "code",
   "execution_count": 2,
   "metadata": {},
   "outputs": [
    {
     "name": "stdout",
     "output_type": "stream",
     "text": [
      "<class 'str'>\n",
      "Hello There! My name is Aditya\n"
     ]
    }
   ],
   "source": [
    "#String DataType\n",
    "My_str=\"Hello There! My name is Aditya\"\n",
    "print(type(My_str))\n",
    "print(My_str)"
   ]
  },
  {
   "cell_type": "code",
   "execution_count": 3,
   "metadata": {},
   "outputs": [
    {
     "name": "stdout",
     "output_type": "stream",
     "text": [
      "<class 'bool'>\n",
      "True\n"
     ]
    }
   ],
   "source": [
    "#Boolean DataType\n",
    "My_bool=True\n",
    "print(type(My_bool))\n",
    "print(My_bool)"
   ]
  },
  {
   "cell_type": "code",
   "execution_count": 4,
   "metadata": {},
   "outputs": [
    {
     "name": "stdout",
     "output_type": "stream",
     "text": [
      "<class 'list'>\n",
      "['Aditya', 30, 'Male', 'Gurugram', 30]\n"
     ]
    }
   ],
   "source": [
    "#List DataType\n",
    "My_lst=[\"Aditya\",30,\"Male\",\"Gurugram\",30]\n",
    "print(type(My_lst))\n",
    "print(My_lst)"
   ]
  },
  {
   "cell_type": "code",
   "execution_count": 5,
   "metadata": {},
   "outputs": [
    {
     "name": "stdout",
     "output_type": "stream",
     "text": [
      "<class 'tuple'>\n",
      "(1, 2, 1, 'Aditya')\n"
     ]
    }
   ],
   "source": [
    "#Tuple DataType\n",
    "My_tpl=(1,2,1,\"Aditya\")\n",
    "print(type(My_tpl))\n",
    "print(My_tpl)"
   ]
  },
  {
   "cell_type": "code",
   "execution_count": 6,
   "metadata": {},
   "outputs": [
    {
     "name": "stdout",
     "output_type": "stream",
     "text": [
      "<class 'set'>\n",
      "{1, 2, 'Aditya'}\n"
     ]
    }
   ],
   "source": [
    "#Set DataType\n",
    "My_set={1,2,1,\"Aditya\"}\n",
    "print(type(My_set))\n",
    "print(My_set)"
   ]
  },
  {
   "cell_type": "code",
   "execution_count": 7,
   "metadata": {},
   "outputs": [
    {
     "name": "stdout",
     "output_type": "stream",
     "text": [
      "<class 'dict'>\n",
      "{'Name': 'Aditya', 'Age': 30, 'Sex': 'Male', 'Place': 'Gurugram'}\n"
     ]
    }
   ],
   "source": [
    "#Dictionary DataType\n",
    "My_Dict={\"Name\":\"Aditya\",\"Age\":30,\"Sex\":\"Male\",\"Place\":\"Gurugram\",\"Age\":30}\n",
    "print(type(My_Dict))\n",
    "print(My_Dict)"
   ]
  },
  {
   "cell_type": "markdown",
   "metadata": {},
   "source": [
    "## Basic operations on DataTypes"
   ]
  },
  {
   "cell_type": "code",
   "execution_count": 12,
   "metadata": {},
   "outputs": [
    {
     "name": "stdout",
     "output_type": "stream",
     "text": [
      "Aditya\n",
      "30\n",
      "['Aditya']\n",
      "[30, 'Male']\n",
      "[30, 'Gurugram', 'Male', 30]\n"
     ]
    }
   ],
   "source": [
    "print(My_lst[0]);\n",
    "print(My_lst[1]);\n",
    "print(My_lst[0:1]);\n",
    "print(My_lst[1:3]);\n",
    "print(My_lst[4:0:-1]);"
   ]
  },
  {
   "cell_type": "code",
   "execution_count": null,
   "metadata": {},
   "outputs": [],
   "source": []
  }
 ],
 "metadata": {
  "kernelspec": {
   "display_name": "Python 3",
   "language": "python",
   "name": "python3"
  },
  "language_info": {
   "codemirror_mode": {
    "name": "ipython",
    "version": 3
   },
   "file_extension": ".py",
   "mimetype": "text/x-python",
   "name": "python",
   "nbconvert_exporter": "python",
   "pygments_lexer": "ipython3",
   "version": "3.8.5"
  }
 },
 "nbformat": 4,
 "nbformat_minor": 4
}
